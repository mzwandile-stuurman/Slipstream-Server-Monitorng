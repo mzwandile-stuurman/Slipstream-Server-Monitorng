{
 "cells": [
  {
   "cell_type": "code",
   "execution_count": 1,
   "metadata": {},
   "outputs": [],
   "source": [
    "import psutil\n",
    "import csv\n",
    "from datetime import datetime\n",
    "import time"
   ]
  },
  {
   "cell_type": "code",
   "execution_count": 2,
   "metadata": {},
   "outputs": [
    {
     "name": "stdout",
     "output_type": "stream",
     "text": [
      "Collecting psycopg2-binary\n",
      "  Downloading psycopg2_binary-2.9.10-cp312-cp312-win_amd64.whl.metadata (5.0 kB)\n",
      "Downloading psycopg2_binary-2.9.10-cp312-cp312-win_amd64.whl (1.2 MB)\n",
      "   ---------------------------------------- 0.0/1.2 MB ? eta -:--:--\n",
      "   ---------------------------------------- 0.0/1.2 MB ? eta -:--:--\n",
      "   ---------------------------------------- 0.0/1.2 MB ? eta -:--:--\n",
      "   ---------------------------------------- 0.0/1.2 MB ? eta -:--:--\n",
      "   --------- ------------------------------ 0.3/1.2 MB ? eta -:--:--\n",
      "   ------------------ --------------------- 0.5/1.2 MB 1.0 MB/s eta 0:00:01\n",
      "   --------------------------- ------------ 0.8/1.2 MB 1.1 MB/s eta 0:00:01\n",
      "   ------------------------------------ --- 1.0/1.2 MB 1.1 MB/s eta 0:00:01\n",
      "   ------------------------------------ --- 1.0/1.2 MB 1.1 MB/s eta 0:00:01\n",
      "   ------------------------------------ --- 1.0/1.2 MB 1.1 MB/s eta 0:00:01\n",
      "   ---------------------------------------- 1.2/1.2 MB 671.0 kB/s eta 0:00:00\n",
      "Installing collected packages: psycopg2-binary\n",
      "Successfully installed psycopg2-binary-2.9.10\n",
      "Collecting pyodbc\n",
      "  Downloading pyodbc-5.2.0-cp312-cp312-win_amd64.whl.metadata (2.8 kB)\n",
      "Downloading pyodbc-5.2.0-cp312-cp312-win_amd64.whl (69 kB)\n",
      "Installing collected packages: pyodbc\n",
      "Successfully installed pyodbc-5.2.0\n"
     ]
    }
   ],
   "source": [
    "! pip install psycopg2-binary\n",
    "! pip install pyodbc\n",
    "\n"
   ]
  },
  {
   "cell_type": "markdown",
   "metadata": {},
   "source": [
    "PostgreSQL"
   ]
  },
  {
   "cell_type": "code",
   "execution_count": null,
   "metadata": {
    "vscode": {
     "languageId": "sql"
    }
   },
   "outputs": [],
   "source": [
    "-- PostgreSQL version\n",
    "CREATE TABLE process_metrics (\n",
    "    timestamp TEXT,\n",
    "    name TEXT,\n",
    "    pid INTEGER,\n",
    "    ws BIGINT,\n",
    "    vm BIGINT,\n",
    "    private_memory BIGINT,\n",
    "    working_set BIGINT,\n",
    "    virtual_memory BIGINT,\n",
    "    paged_memory BIGINT,\n",
    "    peak_working_set BIGINT,\n",
    "    peak_virtual_memory BIGINT,\n",
    "    cpu_user FLOAT,\n",
    "    cpu_system FLOAT,\n",
    "    cpu_total FLOAT,\n",
    "    processor_affinity TEXT,\n",
    "    start_time TEXT,\n",
    "    has_exited BOOLEAN,\n",
    "    responding BOOLEAN\n",
    ");\n",
    "\n"
   ]
  },
  {
   "cell_type": "code",
   "execution_count": null,
   "metadata": {},
   "outputs": [],
   "source": [
    "#python script for PostgreSQL\n",
    "import psutil\n",
    "import psycopg2\n",
    "from datetime import datetime\n",
    "\n",
    "\n",
    "# Connect to PostgreSQL\n",
    "conn = psycopg2.connect(\n",
    "    host=\"localhost\",\n",
    "    database=\"system_monitoring\",\n",
    "    user=\"your_user\",\n",
    "    password=\"your_password\"\n",
    ")\n",
    "cursor = conn.cursor()\n",
    "\n",
    "def log_metrics():\n",
    "    for proc in psutil.process_iter(['pid', 'name', 'memory_info', 'cpu_times', 'create_time', 'status']):\n",
    "        try:\n",
    "            p = psutil.Process(proc.info['pid'])\n",
    "            mem = p.memory_info()\n",
    "            cpu = p.cpu_times()\n",
    "            affinity = \",\".join(map(str, p.cpu_affinity())) if hasattr(p, \"cpu_affinity\") else \"\"\n",
    "\n",
    "            data = (\n",
    "                datetime.now().isoformat(),\n",
    "                proc.info['name'],\n",
    "                proc.info['pid'],\n",
    "                mem.rss,\n",
    "                mem.vms,\n",
    "                getattr(mem, \"private\", None),\n",
    "                mem.rss,\n",
    "                mem.vms,\n",
    "                getattr(mem, \"paged_pool\", None),\n",
    "                mem.rss,\n",
    "                mem.vms,\n",
    "                cpu.user,\n",
    "                cpu.system,\n",
    "                cpu.user + cpu.system,\n",
    "                affinity,\n",
    "                datetime.fromtimestamp(p.create_time()).isoformat(),\n",
    "                not p.is_running() or p.status() == psutil.STATUS_ZOMBIE,\n",
    "                p.status() != psutil.STATUS_STOPPED\n",
    "            )\n",
    "\n",
    "            cursor.execute('''\n",
    "                INSERT INTO process_metrics VALUES (%s, %s, %s, %s, %s, %s, %s, %s, %s, %s, %s, %s, %s, %s, %s, %s, %s, %s)\n",
    "            ''', data)\n",
    "\n",
    "        except (psutil.NoSuchProcess, psutil.AccessDenied, psutil.ZombieProcess):\n",
    "            continue\n",
    "\n",
    "    conn.commit()\n",
    "\n",
    "log_metrics()\n",
    "conn.close()\n"
   ]
  },
  {
   "cell_type": "markdown",
   "metadata": {},
   "source": [
    "SQL Server"
   ]
  },
  {
   "cell_type": "code",
   "execution_count": null,
   "metadata": {
    "vscode": {
     "languageId": "sql"
    }
   },
   "outputs": [],
   "source": [
    "CREATE TABLE process_metrics (\n",
    "    timestamp NVARCHAR(50),\n",
    "    name NVARCHAR(255),\n",
    "    pid INT,\n",
    "    ws BIGINT,\n",
    "    vm BIGINT,\n",
    "    private_memory BIGINT,\n",
    "    working_set BIGINT,\n",
    "    virtual_memory BIGINT,\n",
    "    paged_memory BIGINT,\n",
    "    peak_working_set BIGINT,\n",
    "    peak_virtual_memory BIGINT,\n",
    "    cpu_user FLOAT,\n",
    "    cpu_system FLOAT,\n",
    "    cpu_total FLOAT,\n",
    "    processor_affinity NVARCHAR(MAX),\n",
    "    start_time NVARCHAR(50),\n",
    "    has_exited BIT,\n",
    "    responding BIT\n",
    ");\n"
   ]
  },
  {
   "cell_type": "code",
   "execution_count": null,
   "metadata": {},
   "outputs": [],
   "source": [
    "import psutil\n",
    "import pyodbc\n",
    "from datetime import datetime\n",
    "\n",
    "# SQL Server connection string\n",
    "conn = pyodbc.connect(\n",
    "    r'DRIVER={ODBC Driver 17 for SQL Server};'\n",
    "    r'SERVER=localhost;'\n",
    "    r'DATABASE=SystemMonitoring;'\n",
    "    r'UID=your_user;'\n",
    "    r'PWD=your_password'\n",
    ")\n",
    "cursor = conn.cursor()\n",
    "\n",
    "def log_metrics():\n",
    "    for proc in psutil.process_iter(['pid', 'name', 'memory_info', 'cpu_times', 'create_time', 'status']):\n",
    "        try:\n",
    "            p = psutil.Process(proc.info['pid'])\n",
    "            mem = p.memory_info()\n",
    "            cpu = p.cpu_times()\n",
    "            affinity = \",\".join(map(str, p.cpu_affinity())) if hasattr(p, \"cpu_affinity\") else \"\"\n",
    "\n",
    "            data = (\n",
    "                datetime.now().isoformat(),\n",
    "                proc.info['name'],\n",
    "                proc.info['pid'],\n",
    "                mem.rss,\n",
    "                mem.vms,\n",
    "                getattr(mem, \"private\", None),\n",
    "                mem.rss,\n",
    "                mem.vms,\n",
    "                getattr(mem, \"paged_pool\", None),\n",
    "                mem.rss,\n",
    "                mem.vms,\n",
    "                cpu.user,\n",
    "                cpu.system,\n",
    "                cpu.user + cpu.system,\n",
    "                affinity,\n",
    "                datetime.fromtimestamp(p.create_time()).isoformat(),\n",
    "                int(not p.is_running() or p.status() == psutil.STATUS_ZOMBIE),\n",
    "                int(p.status() != psutil.STATUS_STOPPED)\n",
    "            )\n",
    "\n",
    "            cursor.execute('''\n",
    "                INSERT INTO process_metrics VALUES (?, ?, ?, ?, ?, ?, ?, ?, ?, ?, ?, ?, ?, ?, ?, ?, ?, ?)\n",
    "            ''', data)\n",
    "\n",
    "        except (psutil.NoSuchProcess, psutil.AccessDenied, psutil.ZombieProcess):\n",
    "            continue\n",
    "\n",
    "    conn.commit()\n",
    "\n",
    "log_metrics()\n",
    "conn.close()\n"
   ]
  }
 ],
 "metadata": {
  "kernelspec": {
   "display_name": "NLP",
   "language": "python",
   "name": "python3"
  },
  "language_info": {
   "codemirror_mode": {
    "name": "ipython",
    "version": 3
   },
   "file_extension": ".py",
   "mimetype": "text/x-python",
   "name": "python",
   "nbconvert_exporter": "python",
   "pygments_lexer": "ipython3",
   "version": "3.12.8"
  }
 },
 "nbformat": 4,
 "nbformat_minor": 2
}
